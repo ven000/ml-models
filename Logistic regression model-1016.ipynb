{
 "cells": [
  {
   "cell_type": "code",
   "execution_count": 29,
   "id": "16f5c17b",
   "metadata": {},
   "outputs": [],
   "source": [
    "# problem: remove ab aggregates from single positive EVs\n",
    "# target: 0 for ab aggregates, 1 for EV (classification)"
   ]
  },
  {
   "cell_type": "code",
   "execution_count": 30,
   "id": "1755ab32",
   "metadata": {},
   "outputs": [],
   "source": [
    "import pandas as pd\n",
    "%matplotlib inline \n",
    "import numpy as np\n",
    "from scipy.stats import lognorm, norm\n",
    "import matplotlib.pyplot as plt\n",
    "from scipy.optimize import curve_fit\n",
    "import scipy.stats as stats"
   ]
  },
  {
   "cell_type": "code",
   "execution_count": 31,
   "id": "0c1e229b",
   "metadata": {
    "scrolled": false
   },
   "outputs": [
    {
     "name": "stdout",
     "output_type": "stream",
     "text": [
      "interested particle numbers for ab aggregates\n",
      "2226\n",
      "median radius of interested particle numbers\n",
      "18.7336\n"
     ]
    }
   ],
   "source": [
    "#AB fitting with curve_fit, bins need to be 200!\n",
    "\n",
    "path = r'~/Downloads/data file/antibody aggregates-control.csv'\n",
    "df=pd.read_table(path)\n",
    "#discard headers\n",
    "df_new = df.loc[13:] # 14 for single file, 13 for 'total' file\n",
    "\n",
    "df1=df_new[df_new.columns[0]].str.split(',', expand=True)\n",
    "df1.columns = df1.iloc[0]\n",
    "# print(df1.head())\n",
    "# print(df1.index[0])\n",
    "df1=df1.drop(df1.index[0])\n",
    "# print(df1.head())\n",
    "df1=df1.reset_index(drop=True)\n",
    "df1 = df1[df1.columns].astype(float)\n",
    "\n",
    "rslt_df_0 = df1[(df1['Channel 1 binned counts'] >= 3 )| (df1['Channel 2 binned counts'] >= 3)]  #channel 1 or 2 positive\n",
    "radius = rslt_df_0[rslt_df_0['radius_of_gyration']<300]['radius_of_gyration']\n",
    "print('interested particle numbers for ab aggregates')\n",
    "print(len(radius))\n",
    "print('median radius of interested particle numbers')\n",
    "print(radius.median())"
   ]
  },
  {
   "cell_type": "code",
   "execution_count": 32,
   "id": "88d4e947",
   "metadata": {},
   "outputs": [
    {
     "data": {
      "text/plain": [
       "(array([239., 825., 453., 149.,  88.,  70.,  50.,  38.,  34.,  24.,  24.,\n",
       "         19.,  16.,  13.,  12.,  10.,   9.,   8.,  14.,   9.,  10.,  13.,\n",
       "          8.,   5.,   7.,  18.,   4.,   3.,   4.,   4.,   4.,   3.,   5.,\n",
       "          3.,   4.,   5.,   4.,   4.,   5.,   0.,   0.,   3.,   3.,   2.,\n",
       "          0.,   0.,   0.,   0.,   0.,   1.]),\n",
       " array([  8.343956  ,  13.30308388,  18.26221176,  23.22133964,\n",
       "         28.18046752,  33.1395954 ,  38.09872328,  43.05785116,\n",
       "         48.01697904,  52.97610692,  57.9352348 ,  62.89436268,\n",
       "         67.85349056,  72.81261844,  77.77174632,  82.7308742 ,\n",
       "         87.69000208,  92.64912996,  97.60825784, 102.56738572,\n",
       "        107.5265136 , 112.48564148, 117.44476936, 122.40389724,\n",
       "        127.36302512, 132.322153  , 137.28128088, 142.24040876,\n",
       "        147.19953664, 152.15866452, 157.1177924 , 162.07692028,\n",
       "        167.03604816, 171.99517604, 176.95430392, 181.9134318 ,\n",
       "        186.87255968, 191.83168756, 196.79081544, 201.74994332,\n",
       "        206.7090712 , 211.66819908, 216.62732696, 221.58645484,\n",
       "        226.54558272, 231.5047106 , 236.46383848, 241.42296636,\n",
       "        246.38209424, 251.34122212, 256.30035   ]),\n",
       " <BarContainer object of 50 artists>)"
      ]
     },
     "execution_count": 32,
     "metadata": {},
     "output_type": "execute_result"
    },
    {
     "data": {
      "image/png": "[encoded data removed]",
      "text/plain": [
       "<Figure size 640x480 with 1 Axes>"
      ]
     },
     "metadata": {},
     "output_type": "display_data"
    }
   ],
   "source": [
    "plt.hist(radius,bins=50)"
   ]
  },
  {
   "cell_type": "code",
   "execution_count": 33,
   "id": "0f08a168",
   "metadata": {},
   "outputs": [],
   "source": [
    "rslt_df_0=rslt_df_0.reset_index(drop=True)\n",
    "# rslt_df_0=rslt_df_0.drop('index', axis=1)\n",
    "rslt_df_0['label'] = [0]*len(rslt_df_0)"
   ]
  },
  {
   "cell_type": "code",
   "execution_count": 34,
   "id": "f84e6e14",
   "metadata": {},
   "outputs": [
    {
     "name": "stdout",
     "output_type": "stream",
     "text": [
      "12367\n"
     ]
    }
   ],
   "source": [
    "#EV, double positive particles\n",
    "\n",
    "df=pd.read_table(r'~/Downloads/data file/EV sample total 2.csv')\n",
    "\n",
    "df_new = df.loc[13:] # 14 for single file, 13 for 'total' file\n",
    "\n",
    "df1=df_new[df_new.columns[0]].str.split(',', expand=True)\n",
    "df1.columns = df1.iloc[0]\n",
    "df1=df1.drop(df1.index[0])\n",
    "df1=df1.reset_index(drop=True)\n",
    "df2 = df1[df1.columns].astype(float)\n",
    "\n",
    "rslt_df_1 = df2[(df2['Channel 1 binned counts'] >= 3 )& (df2['Channel 2 binned counts'] >= 3)]  #channel 1&2 positive\n",
    "radius = rslt_df_1[rslt_df_1['radius_of_gyration']<300]['radius_of_gyration']\n",
    "# radius = rslt_df['radius_of_gyration']\n",
    "print(len(rslt_df_1))"
   ]
  },
  {
   "cell_type": "code",
   "execution_count": 35,
   "id": "b751921a",
   "metadata": {},
   "outputs": [
    {
     "data": {
      "text/plain": [
       "(array([2.900e+01, 1.810e+02, 4.540e+02, 8.040e+02, 1.183e+03, 1.208e+03,\n",
       "        1.096e+03, 9.660e+02, 8.370e+02, 7.220e+02, 5.710e+02, 4.420e+02,\n",
       "        4.120e+02, 3.630e+02, 2.900e+02, 3.010e+02, 2.340e+02, 2.570e+02,\n",
       "        2.350e+02, 1.840e+02, 1.700e+02, 1.620e+02, 1.540e+02, 1.410e+02,\n",
       "        1.370e+02, 1.100e+02, 9.300e+01, 9.200e+01, 8.800e+01, 9.100e+01,\n",
       "        6.200e+01, 5.500e+01, 5.700e+01, 3.300e+01, 2.900e+01, 1.600e+01,\n",
       "        2.100e+01, 2.400e+01, 1.400e+01, 7.000e+00, 7.000e+00, 1.100e+01,\n",
       "        6.000e+00, 1.000e+00, 2.000e+00, 4.000e+00, 2.000e+00, 5.000e+00,\n",
       "        2.000e+00, 2.000e+00]),\n",
       " array([  7.3404956 ,  11.71949229,  16.09848898,  20.47748566,\n",
       "         24.85648235,  29.23547904,  33.61447573,  37.99347242,\n",
       "         42.3724691 ,  46.75146579,  51.13046248,  55.50945917,\n",
       "         59.88845586,  64.26745254,  68.64644923,  73.02544592,\n",
       "         77.40444261,  81.7834393 ,  86.16243598,  90.54143267,\n",
       "         94.92042936,  99.29942605, 103.67842274, 108.05741942,\n",
       "        112.43641611, 116.8154128 , 121.19440949, 125.57340618,\n",
       "        129.95240286, 134.33139955, 138.71039624, 143.08939293,\n",
       "        147.46838962, 151.8473863 , 156.22638299, 160.60537968,\n",
       "        164.98437637, 169.36337306, 173.74236974, 178.12136643,\n",
       "        182.50036312, 186.87935981, 191.2583565 , 195.63735318,\n",
       "        200.01634987, 204.39534656, 208.77434325, 213.15333994,\n",
       "        217.53233662, 221.91133331, 226.29033   ]),\n",
       " <BarContainer object of 50 artists>)"
      ]
     },
     "execution_count": 35,
     "metadata": {},
     "output_type": "execute_result"
    },
    {
     "data": {
      "image/png": "[encoded data removed]",
      "text/plain": [
       "<Figure size 640x480 with 1 Axes>"
      ]
     },
     "metadata": {},
     "output_type": "display_data"
    }
   ],
   "source": [
    "plt.hist(radius,bins=50)"
   ]
  },
  {
   "cell_type": "code",
   "execution_count": 36,
   "id": "04b6575c",
   "metadata": {},
   "outputs": [],
   "source": [
    "rslt_df_1=rslt_df_1.reset_index(drop=True)\n",
    "# rslt_df_1=rslt_df_1.drop('index', axis=1)\n",
    "rslt_df_1['label'] = [1]*len(rslt_df_1)"
   ]
  },
  {
   "cell_type": "code",
   "execution_count": 37,
   "id": "729c9524",
   "metadata": {},
   "outputs": [],
   "source": [
    "# split 1 double positive particle to 2 single positive particle and change the feature value\n",
    "import random\n",
    "import copy\n",
    "\n",
    "\n",
    "rslt_df_1_1 = copy.deepcopy(rslt_df_1)\n",
    "random_numbers = np.random.randint(low=0, high=3, size=len(rslt_df_1_1))\n",
    "rslt_df_1_1['Channel 2 binned counts'] = random_numbers\n",
    "rslt_df_1_1['Channel 2 positive'] = 0\n",
    "\n",
    "\n",
    "rslt_df_1_2 = copy.deepcopy(rslt_df_1)\n",
    "random_numbers = np.random.randint(low=0, high=3, size=len(rslt_df_1_1))\n",
    "rslt_df_1_2['Channel 1 binned counts'] = random_numbers\n",
    "rslt_df_1_2['Channel 1 positive'] = 0"
   ]
  },
  {
   "cell_type": "code",
   "execution_count": 38,
   "id": "13482b63",
   "metadata": {},
   "outputs": [],
   "source": [
    "# training data: test data = 4:1\n",
    "n_0 = int(len(rslt_df_0)*4/5)\n",
    "n_1 = int(len(rslt_df_1)*4/5)"
   ]
  },
  {
   "cell_type": "code",
   "execution_count": 39,
   "id": "f6997e8f",
   "metadata": {},
   "outputs": [],
   "source": [
    "train_0 = rslt_df_0.iloc[:n_0,:]\n",
    "\n",
    "train_2 = rslt_df_1_1.iloc[:n_1,:]\n",
    "train_3 = rslt_df_1_2.iloc[:n_1,:]\n",
    "train_total = pd.concat([train_0,train_2,train_3]).reset_index(drop=True)\n",
    "train = train_total.sample(frac=1, random_state=42).reset_index(drop=True)\n",
    "# train = train_total"
   ]
  },
  {
   "cell_type": "code",
   "execution_count": 40,
   "id": "abf57b05",
   "metadata": {},
   "outputs": [],
   "source": [
    "test_0 = rslt_df_0.iloc[n_0:,:]\n",
    "# test_1 = rslt_df_1.iloc[n_1:,:]\n",
    "test_2 = rslt_df_1_1.iloc[n_1:,:]\n",
    "test_3 = rslt_df_1_2.iloc[n_1:,:]\n",
    "test_total = pd.concat([test_0,test_2,test_3]).reset_index(drop=True)\n",
    "test = test_total.sample(frac=1, random_state=42).reset_index(drop=True)\n",
    "# test = test_total"
   ]
  },
  {
   "cell_type": "code",
   "execution_count": 41,
   "id": "81ba7da0",
   "metadata": {},
   "outputs": [],
   "source": [
    "import matplotlib.pylab as plt\n",
    "%matplotlib inline"
   ]
  },
  {
   "cell_type": "code",
   "execution_count": 42,
   "id": "889510f5",
   "metadata": {},
   "outputs": [],
   "source": [
    "from sklearn.ensemble import RandomForestRegressor\n",
    "from sklearn.pipeline import Pipeline\n",
    "from sklearn.preprocessing import MinMaxScaler\n",
    "from sklearn.metrics import mean_absolute_error, mean_squared_error, r2_score\n",
    "\n",
    "# from sklearn.base import TransformerMixin\n",
    "\n",
    "class Transformer():\n",
    "\n",
    "    def __init__(self):\n",
    "        self.mean = 0\n",
    "    \n",
    "    def fit(self, X, y=None):\n",
    "        '''\n",
    "        Get mean\n",
    "        Input: X datafrome\n",
    "        '''\n",
    "        \n",
    "\n",
    "    def transform(self, X, y=None):\n",
    "        '''\n",
    "        Transform data and fill na with mean\n",
    "        Input: X dataframe\n",
    "        '''\n",
    "        df = pd.DataFrame()\n",
    "        \n",
    "        df['num_localisations']=X['num_localisations']\n",
    "        df['skew']=X['skew']\n",
    "        df['circularity']=X['circularity']\n",
    "        df['density']=X['density']\n",
    "        df['convex_hull_area']=X['convex_hull_area']\n",
    "        df['discretised_area']=X['discretised_area']\n",
    "        df['radius_of_gyration']=X['radius_of_gyration']\n",
    "        df['length']=X['length']\n",
    "        df['distance_birth']=X['distance_birth']\n",
    "        df['distance_death']=X['distance_death']\n",
    "        df['Channel 1 binned counts'] = X['Channel 1 binned counts']\n",
    "        df['Channel 2 binned counts'] = X['Channel 2 binned counts']\n",
    "      \n",
    "        return df\n",
    "\n",
    "    \n",
    " \n",
    "    def fit_transform(self, X, y=None):\n",
    "        '''\n",
    "        Combine fit and transform\n",
    "        Input: X dataframe\n",
    "        '''        \n",
    "        self.fit(X)\n",
    "        return self.transform(X)\n",
    "          "
   ]
  },
  {
   "cell_type": "code",
   "execution_count": 43,
   "id": "a831d87c",
   "metadata": {},
   "outputs": [],
   "source": [
    "# df_copy.tail(20)\n",
    "features = list(train.columns)\n",
    "target = 'label'\n",
    "features.remove(target)\n",
    "\n",
    "X_train = train[features]\n",
    "y_train = train[target]\n",
    "\n",
    "X_test = test[features]\n",
    "y_test = test[target]"
   ]
  },
  {
   "cell_type": "code",
   "execution_count": 44,
   "id": "2994750a",
   "metadata": {},
   "outputs": [],
   "source": [
    "from sklearn.pipeline import Pipeline\n",
    "from sklearn.preprocessing import MinMaxScaler\n",
    "from sklearn.linear_model import LogisticRegression\n",
    "\n",
    "pipeline = Pipeline(steps=[\n",
    "    ('tf', Transformer()),\n",
    "    ('scaler', MinMaxScaler()),       # Apply MinMaxScaler\n",
    "    ('classifier', LogisticRegression(class_weight = 'balanced'))\n",
    "#     ('classifier', LogisticRegression())\n",
    "])"
   ]
  },
  {
   "cell_type": "code",
   "execution_count": 45,
   "id": "791fc37e",
   "metadata": {},
   "outputs": [],
   "source": [
    "# Fit the pipeline\n",
    "pipeline.fit(X_train, y_train)\n",
    "\n",
    "import matplotlib.pylab as plt\n",
    "%matplotlib inline\n",
    "\n",
    "'''Train'''\n",
    "\n",
    "y_train_pred = pipeline.predict(X_train)\n",
    "# plt.scatter(y_train, y_train_pred, alpha=0.3)\n",
    "\n",
    "'''Test'''\n",
    "\n",
    "y_test_pred = pipeline.predict(X_test)\n",
    "# plt.scatter(y_test, y_test_pred, alpha=0.3)\n"
   ]
  },
  {
   "cell_type": "code",
   "execution_count": 46,
   "id": "3c0b5a4f",
   "metadata": {},
   "outputs": [
    {
     "name": "stdout",
     "output_type": "stream",
     "text": [
      "Accuracy: 0.9406037000973709\n",
      "Accuracy: 0.9556915090841676\n"
     ]
    }
   ],
   "source": [
    "from sklearn.metrics import accuracy_score\n",
    "\n",
    "# Compute accuracy score\n",
    "accuracy_train = accuracy_score(y_train, y_train_pred)\n",
    "accuracy_test = accuracy_score(y_test, y_test_pred)\n",
    "\n",
    "# Print accuracy score\n",
    "print(\"Accuracy:\", accuracy_train)\n",
    "print(\"Accuracy:\", accuracy_test)\n",
    "\n",
    "\n"
   ]
  },
  {
   "cell_type": "code",
   "execution_count": 47,
   "id": "0e07ad0b",
   "metadata": {},
   "outputs": [
    {
     "name": "stdout",
     "output_type": "stream",
     "text": [
      "              precision    recall  f1-score   support\n",
      "\n",
      "           0       0.59      0.93      0.72      1781\n",
      "           1       0.99      0.94      0.97     19786\n",
      "\n",
      "    accuracy                           0.94     21567\n",
      "   macro avg       0.79      0.93      0.84     21567\n",
      "weighted avg       0.96      0.94      0.95     21567\n",
      "\n",
      "              precision    recall  f1-score   support\n",
      "\n",
      "           0       0.66      0.95      0.78       446\n",
      "           1       1.00      0.96      0.98      4948\n",
      "\n",
      "    accuracy                           0.96      5394\n",
      "   macro avg       0.83      0.95      0.88      5394\n",
      "weighted avg       0.97      0.96      0.96      5394\n",
      "\n",
      "[[ 1653   128]\n",
      " [ 1153 18633]]\n",
      "[[ 423   23]\n",
      " [ 216 4732]]\n"
     ]
    }
   ],
   "source": [
    "from sklearn.metrics import classification_report\n",
    "\n",
    "# Generate classification report\n",
    "report = classification_report(y_train, y_train_pred)\n",
    "\n",
    "# Print classification report\n",
    "print(report)\n",
    "\n",
    "from sklearn.metrics import classification_report\n",
    "\n",
    "# Generate classification report\n",
    "report = classification_report(y_test, y_test_pred)\n",
    "\n",
    "# Print classification report\n",
    "print(report)\n",
    "\n",
    "from sklearn.metrics import confusion_matrix\n",
    "\n",
    "# Generate confusion matrix\n",
    "cm1 = confusion_matrix(y_train, y_train_pred)\n",
    "cm2 = confusion_matrix(y_test, y_test_pred)\n",
    "\n",
    "\n",
    "# Print confusion matrix\n",
    "print(cm1)\n",
    "print(cm2)\n"
   ]
  },
  {
   "cell_type": "code",
   "execution_count": 48,
   "id": "b341250c",
   "metadata": {
    "scrolled": false
   },
   "outputs": [
    {
     "name": "stdout",
     "output_type": "stream",
     "text": [
      "interested particle numbers for channel 2/CD9 single positive\n",
      "8442\n",
      "median radius of interested particle numbers\n",
      "36.0858725\n"
     ]
    }
   ],
   "source": [
    "#fit single positive channels with double positive EV distribution and AB distribution from corresponding channels\n",
    "\n",
    "rslt_df1 = df2[(df2['Channel 1 binned counts'] < 3 )& (df2['Channel 2 binned counts'] >= 3)]  #channel 2 positive\n",
    "rslt_df2 = df2[(df2['Channel 1 binned counts'] >= 3 )& (df2['Channel 2 binned counts'] < 3)]  #channel 1 positive\n",
    "rslt_df = pd.concat([rslt_df1,rslt_df2]).reset_index(drop=True)\n",
    "\n",
    "radius = rslt_df['radius_of_gyration']\n",
    "print('interested particle numbers for channel 2/CD9 single positive')\n",
    "print(len(radius))\n",
    "print('median radius of interested particle numbers')\n",
    "print(radius.median())\n",
    "\n",
    "\n"
   ]
  },
  {
   "cell_type": "code",
   "execution_count": 49,
   "id": "7281d5a2",
   "metadata": {},
   "outputs": [],
   "source": [
    "# Predict single positive particle is EV or AB aggregates\n",
    "X_test_2 = rslt_df[features]\n",
    "y_test_2 = pipeline.predict(X_test_2)"
   ]
  },
  {
   "cell_type": "code",
   "execution_count": 50,
   "id": "f6ea8966",
   "metadata": {},
   "outputs": [
    {
     "name": "stdout",
     "output_type": "stream",
     "text": [
      "predicted EV percentage from single positive particles: 79.54276237858328\n"
     ]
    }
   ],
   "source": [
    "print('predicted EV percentage from single positive particles:',sum(y_test_2)/len(y_test_2)*100)\n"
   ]
  },
  {
   "cell_type": "code",
   "execution_count": 51,
   "id": "76604508",
   "metadata": {},
   "outputs": [
    {
     "name": "stdout",
     "output_type": "stream",
     "text": [
      "Train Accuracy: 0.9406037000973709\n",
      "Test Accuracy: 0.9556915090841676\n"
     ]
    }
   ],
   "source": [
    "# Print accuracy score\n",
    "print(\"Train Accuracy:\", accuracy_train)\n",
    "print(\"Test Accuracy:\", accuracy_test)"
   ]
  },
  {
   "cell_type": "code",
   "execution_count": 52,
   "id": "2dc38683",
   "metadata": {},
   "outputs": [
    {
     "name": "stdout",
     "output_type": "stream",
     "text": [
      "AUC-ROC Score: 0.9879862679490014\n"
     ]
    },
    {
     "data": {
      "text/plain": [
       "Text(0, 0.5, 'true positive rate')"
      ]
     },
     "execution_count": 52,
     "metadata": {},
     "output_type": "execute_result"
    },
    {
     "data": {
      "image/png": "[encoded data removed]",
      "text/plain": [
       "<Figure size 640x480 with 1 Axes>"
      ]
     },
     "metadata": {},
     "output_type": "display_data"
    }
   ],
   "source": [
    "from sklearn.metrics import roc_auc_score\n",
    "from sklearn import metrics\n",
    "\n",
    "# Make predictions on the train & test set\n",
    "# y_pred_prob_train = pipeline.predict_proba(X_train)[:, 1]\n",
    "y_pred_prob_test = pipeline.predict_proba(X_test)[:, 1]\n",
    "\n",
    "# Calculate the AUC-ROC score\n",
    "auc_roc_score = roc_auc_score(y_test, y_pred_prob_test)\n",
    "\n",
    "print(\"AUC-ROC Score:\", auc_roc_score)\n",
    "\n",
    "# roc_auc_score(y_train, y_train_proba[:, 1])\n",
    "# roc_auc_score(y_test, y_test_proba[:, 1])\n",
    "\n",
    "fpr, tpr, threshold = metrics.roc_curve(y_test, y_pred_prob_test)\n",
    "\n",
    "plt.plot(fpr,tpr)\n",
    "\n",
    "plt.xlabel('false positive rate', fontsize=12)\n",
    "plt.ylabel('true positive rate', fontsize=12)"
   ]
  },
  {
   "cell_type": "code",
   "execution_count": 53,
   "id": "c38706fc",
   "metadata": {},
   "outputs": [
    {
     "data": {
      "text/plain": [
       "Text(0, 0.5, 'true positive rate')"
      ]
     },
     "execution_count": 53,
     "metadata": {},
     "output_type": "execute_result"
    },
    {
     "data": {
      "image/png": "[encoded data removed]",
      "text/plain": [
       "<Figure size 640x480 with 1 Axes>"
      ]
     },
     "metadata": {},
     "output_type": "display_data"
    }
   ],
   "source": [
    "fpr_lg, tpr_lg, thresholds_lg_1 = metrics.roc_curve(y_test, y_pred_prob_test)\n",
    "\n",
    "plt.plot(fpr_lg,tpr_lg)\n",
    "\n",
    "plt.xlabel('false positive rate', fontsize=12)\n",
    "plt.ylabel('true positive rate', fontsize=12)"
   ]
  },
  {
   "cell_type": "code",
   "execution_count": 54,
   "id": "68c3fc14",
   "metadata": {},
   "outputs": [
    {
     "data": {
      "image/png": "[encoded data removed]",
      "text/plain": [
       "<Figure size 640x480 with 1 Axes>"
      ]
     },
     "metadata": {},
     "output_type": "display_data"
    }
   ],
   "source": [
    "from sklearn.metrics import precision_recall_curve\n",
    "\n",
    "precision_lg, recall_lg, thresholds_lg_2 = precision_recall_curve(y_test, y_pred_prob_test)\n",
    "plt.plot(recall_lg, precision_lg)\n",
    "plt.ylabel(\"Precision\")\n",
    "plt.xlabel(\"Recall\")\n",
    "plt.title(\"Train Precision-Recall curve\");"
   ]
  },
  {
   "cell_type": "code",
   "execution_count": 55,
   "id": "72442251",
   "metadata": {},
   "outputs": [
    {
     "name": "stdout",
     "output_type": "stream",
     "text": [
      "Stored 'fpr_lg' (ndarray)\n",
      "Stored 'tpr_lg' (ndarray)\n",
      "Stored 'thresholds_lg_1' (ndarray)\n",
      "Stored 'precision_lg' (ndarray)\n",
      "Stored 'recall_lg' (ndarray)\n",
      "Stored 'thresholds_lg_2' (ndarray)\n"
     ]
    }
   ],
   "source": [
    "%store fpr_lg\n",
    "%store tpr_lg\n",
    "%store thresholds_lg_1\n",
    "%store precision_lg\n",
    "%store recall_lg\n",
    "%store thresholds_lg_2"
   ]
  },
  {
   "cell_type": "code",
   "execution_count": null,
   "id": "df9acced",
   "metadata": {},
   "outputs": [],
   "source": []
  }
 ],
 "metadata": {
  "kernelspec": {
   "display_name": "Python 3 (ipykernel)",
   "language": "python",
   "name": "python3"
  },
  "language_info": {
   "codemirror_mode": {
    "name": "ipython",
    "version": 3
   },
   "file_extension": ".py",
   "mimetype": "text/x-python",
   "name": "python",
   "nbconvert_exporter": "python",
   "pygments_lexer": "ipython3",
   "version": "3.9.13"
  }
 },
 "nbformat": 4,
 "nbformat_minor": 5
}
