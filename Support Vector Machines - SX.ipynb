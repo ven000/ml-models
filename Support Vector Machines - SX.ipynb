{
 "cells": [
  {
   "cell_type": "code",
   "execution_count": null,
   "id": "45bbf7c6",
   "metadata": {},
   "outputs": [],
   "source": [
    "# problem: remove ab aggregates from single positive EVs\n",
    "# target: 0 for ab aggregates, 1 for EV (classification)"
   ]
  },
  {
   "cell_type": "code",
   "execution_count": 1,
   "id": "1755ab32",
   "metadata": {},
   "outputs": [],
   "source": [
    "import pandas as pd\n",
    "%matplotlib inline \n",
    "import numpy as np\n",
    "from scipy.stats import lognorm, norm\n",
    "import matplotlib.pyplot as plt\n",
    "from scipy.optimize import curve_fit\n",
    "import scipy.stats as stats"
   ]
  },
  {
   "cell_type": "code",
   "execution_count": 2,
   "id": "0c1e229b",
   "metadata": {
    "scrolled": false
   },
   "outputs": [
    {
     "name": "stdout",
     "output_type": "stream",
     "text": [
      "interested particle numbers for ab aggregates\n",
      "2226\n",
      "median radius of interested particle numbers\n",
      "18.7336\n"
     ]
    }
   ],
   "source": [
    "#AB fitting with curve_fit, bins need to be 200!\n",
    "# df=pd.read_table(r'~/Desktop/codi data/troubleshooting/20230427 tim4 b1 c1/pbs/20230427 tim4 pbs AB total.csv')\n",
    "\n",
    "df=pd.read_table(r'~/Desktop/codi data/troubleshooting/20230407 ev profiler kit/control cd9 cd81/wash twice/total.csv')\n",
    "\n",
    "#discard headers\n",
    "df_new = df.loc[13:] # 14 for single file, 13 for 'total' file\n",
    "df1=df_new[df_new.columns[0]].str.split(',', expand=True)\n",
    "df1.columns = df1.iloc[0]\n",
    "df1=df1.drop(df1.index[0])\n",
    "df1=df1.reset_index(drop=True)\n",
    "df1 = df1[df1.columns].astype(float)\n",
    "\n",
    "rslt_df_0 = df1[(df1['Channel 1 binned counts'] >= 3 )| (df1['Channel 2 binned counts'] >= 3)]  #channel 1 or 2 positive\n",
    "radius = rslt_df_0[rslt_df_0['radius_of_gyration']<300]['radius_of_gyration']\n",
    "print('interested particle numbers for ab aggregates')\n",
    "print(len(radius))\n",
    "print('median radius of interested particle numbers')\n",
    "print(radius.median())"
   ]
  },
  {
   "cell_type": "code",
   "execution_count": 3,
   "id": "88d4e947",
   "metadata": {},
   "outputs": [
    {
     "data": {
      "text/plain": [
       "(array([239., 825., 453., 149.,  88.,  70.,  50.,  38.,  34.,  24.,  24.,\n",
       "         19.,  16.,  13.,  12.,  10.,   9.,   8.,  14.,   9.,  10.,  13.,\n",
       "          8.,   5.,   7.,  18.,   4.,   3.,   4.,   4.,   4.,   3.,   5.,\n",
       "          3.,   4.,   5.,   4.,   4.,   5.,   0.,   0.,   3.,   3.,   2.,\n",
       "          0.,   0.,   0.,   0.,   0.,   1.]),\n",
       " array([  8.343956  ,  13.30308388,  18.26221176,  23.22133964,\n",
       "         28.18046752,  33.1395954 ,  38.09872328,  43.05785116,\n",
       "         48.01697904,  52.97610692,  57.9352348 ,  62.89436268,\n",
       "         67.85349056,  72.81261844,  77.77174632,  82.7308742 ,\n",
       "         87.69000208,  92.64912996,  97.60825784, 102.56738572,\n",
       "        107.5265136 , 112.48564148, 117.44476936, 122.40389724,\n",
       "        127.36302512, 132.322153  , 137.28128088, 142.24040876,\n",
       "        147.19953664, 152.15866452, 157.1177924 , 162.07692028,\n",
       "        167.03604816, 171.99517604, 176.95430392, 181.9134318 ,\n",
       "        186.87255968, 191.83168756, 196.79081544, 201.74994332,\n",
       "        206.7090712 , 211.66819908, 216.62732696, 221.58645484,\n",
       "        226.54558272, 231.5047106 , 236.46383848, 241.42296636,\n",
       "        246.38209424, 251.34122212, 256.30035   ]),\n",
       " <BarContainer object of 50 artists>)"
      ]
     },
     "execution_count": 3,
     "metadata": {},
     "output_type": "execute_result"
    },
    {
     "data": {
      "image/png": "[encoded data removed]",
      "text/plain": [
       "<Figure size 640x480 with 1 Axes>"
      ]
     },
     "metadata": {},
     "output_type": "display_data"
    }
   ],
   "source": [
    "plt.hist(radius,bins=50)"
   ]
  },
  {
   "cell_type": "code",
   "execution_count": 4,
   "id": "0f08a168",
   "metadata": {},
   "outputs": [],
   "source": [
    "rslt_df_0=rslt_df_0.reset_index(drop=True)\n",
    "# rslt_df_0=rslt_df_0.drop('index', axis=1)\n",
    "rslt_df_0['label'] = [0]*len(rslt_df_0)"
   ]
  },
  {
   "cell_type": "code",
   "execution_count": 5,
   "id": "f84e6e14",
   "metadata": {},
   "outputs": [
    {
     "name": "stdout",
     "output_type": "stream",
     "text": [
      "8148\n"
     ]
    }
   ],
   "source": [
    "#EV\n",
    "\n",
    "df=pd.read_table(r'~/Desktop/codi data/troubleshooting/20230427 tim4 b1 c1/B1/20230427 tim4 B1 ONI total.csv')\n",
    "\n",
    "df_new = df.loc[13:] # 14 for single file, 13 for 'total' file\n",
    "\n",
    "df1=df_new[df_new.columns[0]].str.split(',', expand=True)\n",
    "df1.columns = df1.iloc[0]\n",
    "df1=df1.drop(df1.index[0])\n",
    "df1=df1.reset_index(drop=True)\n",
    "df2 = df1[df1.columns].astype(float)\n",
    "\n",
    "rslt_df_1 = df2[(df2['Channel 1 binned counts'] >= 3 )& (df2['Channel 2 binned counts'] >= 3)]  #channel 1&2 positive\n",
    "radius = rslt_df_1[rslt_df_1['radius_of_gyration']<300]['radius_of_gyration']\n",
    "# radius = rslt_df['radius_of_gyration']\n",
    "print(len(rslt_df_1))"
   ]
  },
  {
   "cell_type": "code",
   "execution_count": 6,
   "id": "04b6575c",
   "metadata": {},
   "outputs": [],
   "source": [
    "rslt_df_1=rslt_df_1.reset_index(drop=True)\n",
    "# rslt_df_1=rslt_df_1.drop('index', axis=1)\n",
    "rslt_df_1['label'] = [1]*len(rslt_df_1)"
   ]
  },
  {
   "cell_type": "code",
   "execution_count": 7,
   "id": "729c9524",
   "metadata": {},
   "outputs": [],
   "source": [
    "# split 1 double positive particle to 2 single positive particle and change the feature value\n",
    "import random\n",
    "import copy\n",
    "\n",
    "# rslt_df_1_1 = pd.DataFrame()\n",
    "rslt_df_1_1 = copy.deepcopy(rslt_df_1)\n",
    "random_numbers = np.random.randint(low=0, high=3, size=len(rslt_df_1_1))\n",
    "rslt_df_1_1['Channel 2 binned counts'] = random_numbers\n",
    "rslt_df_1_1['Channel 2 positive'] = 0\n",
    "\n",
    "# rslt_df_1_1 = pd.DataFrame()\n",
    "rslt_df_1_2 = copy.deepcopy(rslt_df_1)\n",
    "random_numbers = np.random.randint(low=0, high=3, size=len(rslt_df_1_1))\n",
    "rslt_df_1_2['Channel 1 binned counts'] = random_numbers\n",
    "rslt_df_1_2['Channel 1 positive'] = 0"
   ]
  },
  {
   "cell_type": "code",
   "execution_count": 8,
   "id": "13482b63",
   "metadata": {},
   "outputs": [],
   "source": [
    "n_0 = int(len(rslt_df_0)*4/5)\n",
    "n_1 = int(len(rslt_df_1)*4/5)"
   ]
  },
  {
   "cell_type": "code",
   "execution_count": 9,
   "id": "f6997e8f",
   "metadata": {},
   "outputs": [],
   "source": [
    "train_0 = rslt_df_0.iloc[:n_0,:]\n",
    "# train_1 = rslt_df_1.iloc[:n_1,:]\n",
    "train_2 = rslt_df_1_1.iloc[:n_1,:]\n",
    "train_3 = rslt_df_1_2.iloc[:n_1,:]\n",
    "train_total = pd.concat([train_0,train_2,train_3]).reset_index(drop=True)\n",
    "# train = train_total.sample(frac=1, random_state=42).reset_index(drop=True)\n",
    "train = train_total"
   ]
  },
  {
   "cell_type": "code",
   "execution_count": 10,
   "id": "bcd4e514",
   "metadata": {},
   "outputs": [],
   "source": [
    "# result = pd.concat([rslt_df_0, rslt_df_1])"
   ]
  },
  {
   "cell_type": "code",
   "execution_count": 11,
   "id": "e8953bcf",
   "metadata": {},
   "outputs": [],
   "source": [
    "# result = result.reset_index(drop=True)"
   ]
  },
  {
   "cell_type": "code",
   "execution_count": 12,
   "id": "abf57b05",
   "metadata": {},
   "outputs": [],
   "source": [
    "test_0 = rslt_df_0.iloc[n_0:,:]\n",
    "# test_1 = rslt_df_1.iloc[n_1:,:]\n",
    "test_2 = rslt_df_1_1.iloc[n_1:,:]\n",
    "test_3 = rslt_df_1_2.iloc[n_1:,:]\n",
    "test_total = pd.concat([test_0,test_2,test_3]).reset_index(drop=True)\n",
    "# test = test_total.sample(frac=1, random_state=42).reset_index(drop=True)\n",
    "test = test_total"
   ]
  },
  {
   "cell_type": "code",
   "execution_count": 13,
   "id": "81ba7da0",
   "metadata": {},
   "outputs": [],
   "source": [
    "import matplotlib.pylab as plt\n",
    "%matplotlib inline"
   ]
  },
  {
   "cell_type": "code",
   "execution_count": 14,
   "id": "889510f5",
   "metadata": {},
   "outputs": [],
   "source": [
    "from sklearn.ensemble import RandomForestRegressor\n",
    "from sklearn.pipeline import Pipeline\n",
    "from sklearn.preprocessing import MinMaxScaler\n",
    "from sklearn.metrics import mean_absolute_error, mean_squared_error, r2_score\n",
    "\n",
    "# from sklearn.base import TransformerMixin\n",
    "\n",
    "class Transformer():\n",
    "\n",
    "    def __init__(self):\n",
    "        self.mean = 0\n",
    "    \n",
    "    def fit(self, X, y=None):\n",
    "        '''\n",
    "        Get mean\n",
    "        Input: X datafrome\n",
    "        '''\n",
    "        \n",
    "\n",
    "    def transform(self, X, y=None):\n",
    "        '''\n",
    "        Transform data and fill na with mean\n",
    "        Input: X dataframe\n",
    "        '''\n",
    "        df = pd.DataFrame()\n",
    "        \n",
    "        df['num_localisations']=X['num_localisations']\n",
    "        df['skew']=X['skew']\n",
    "        df['circularity']=X['circularity']\n",
    "        df['density']=X['density']\n",
    "        df['convex_hull_area']=X['convex_hull_area']\n",
    "        df['discretised_area']=X['discretised_area']\n",
    "        df['radius_of_gyration']=X['radius_of_gyration']\n",
    "        df['length']=X['length']\n",
    "        df['distance_birth']=X['distance_birth']\n",
    "        df['distance_death']=X['distance_death']\n",
    "        df['Channel 1 binned counts'] = X['Channel 1 binned counts']\n",
    "        df['Channel 2 binned counts'] = X['Channel 2 binned counts']\n",
    "#         df['Channel 1 positive'] = X['Channel 1 positive']\n",
    "#         df['Channel 2 positive'] = X['Channel 2 positive']\n",
    "        \n",
    "        return df\n",
    "\n",
    "    \n",
    " \n",
    "    def fit_transform(self, X, y=None):\n",
    "        '''\n",
    "        Combine fit and transform\n",
    "        Input: X dataframe\n",
    "        '''        \n",
    "        self.fit(X)\n",
    "        return self.transform(X)\n",
    "          "
   ]
  },
  {
   "cell_type": "code",
   "execution_count": 15,
   "id": "2ed4abfb",
   "metadata": {},
   "outputs": [],
   "source": [
    "# Transformer().fit_transform(X_train)"
   ]
  },
  {
   "cell_type": "code",
   "execution_count": 16,
   "id": "a831d87c",
   "metadata": {},
   "outputs": [],
   "source": [
    "# df_copy.tail(20)\n",
    "features = list(train.columns)\n",
    "target = 'label'\n",
    "features.remove(target)\n",
    "\n",
    "X_train = train[features]\n",
    "y_train = train[target]\n",
    "\n",
    "X_test = test[features]\n",
    "y_test = test[target]"
   ]
  },
  {
   "cell_type": "code",
   "execution_count": 17,
   "id": "ca8dc622",
   "metadata": {},
   "outputs": [
    {
     "data": {
      "text/html": [
       "<div>\n",
       "<style scoped>\n",
       "    .dataframe tbody tr th:only-of-type {\n",
       "        vertical-align: middle;\n",
       "    }\n",
       "\n",
       "    .dataframe tbody tr th {\n",
       "        vertical-align: top;\n",
       "    }\n",
       "\n",
       "    .dataframe thead th {\n",
       "        text-align: right;\n",
       "    }\n",
       "</style>\n",
       "<table border=\"1\" class=\"dataframe\">\n",
       "  <thead>\n",
       "    <tr style=\"text-align: right;\">\n",
       "      <th>13</th>\n",
       "      <th>id</th>\n",
       "      <th>x</th>\n",
       "      <th>y</th>\n",
       "      <th>num_localisations</th>\n",
       "      <th>skew</th>\n",
       "      <th>circularity</th>\n",
       "      <th>density</th>\n",
       "      <th>convex_hull_area</th>\n",
       "      <th>discretised_area</th>\n",
       "      <th>radius_of_gyration</th>\n",
       "      <th>length</th>\n",
       "      <th>distance_birth</th>\n",
       "      <th>distance_death</th>\n",
       "      <th>channelGroupIndex</th>\n",
       "      <th>Channel 1 binned counts</th>\n",
       "      <th>Channel 2 binned counts</th>\n",
       "      <th>Channel 1 positive</th>\n",
       "      <th>Channel 2 positive</th>\n",
       "    </tr>\n",
       "  </thead>\n",
       "  <tbody>\n",
       "    <tr>\n",
       "      <th>0</th>\n",
       "      <td>32465.0</td>\n",
       "      <td>46512.523</td>\n",
       "      <td>78794.010</td>\n",
       "      <td>464.0</td>\n",
       "      <td>1.839434</td>\n",
       "      <td>0.859016</td>\n",
       "      <td>0.107602</td>\n",
       "      <td>4312.1875</td>\n",
       "      <td>6800.0</td>\n",
       "      <td>19.689600</td>\n",
       "      <td>72.562130</td>\n",
       "      <td>1612.90770</td>\n",
       "      <td>3.385545</td>\n",
       "      <td>0.0</td>\n",
       "      <td>0.0</td>\n",
       "      <td>16.0</td>\n",
       "      <td>0.0</td>\n",
       "      <td>1.0</td>\n",
       "    </tr>\n",
       "    <tr>\n",
       "      <th>1</th>\n",
       "      <td>32469.0</td>\n",
       "      <td>47834.477</td>\n",
       "      <td>77767.850</td>\n",
       "      <td>34.0</td>\n",
       "      <td>1.781715</td>\n",
       "      <td>0.590072</td>\n",
       "      <td>0.010626</td>\n",
       "      <td>3199.5625</td>\n",
       "      <td>4400.0</td>\n",
       "      <td>27.191032</td>\n",
       "      <td>82.256590</td>\n",
       "      <td>531.46960</td>\n",
       "      <td>17.111925</td>\n",
       "      <td>0.0</td>\n",
       "      <td>0.0</td>\n",
       "      <td>11.0</td>\n",
       "      <td>0.0</td>\n",
       "      <td>1.0</td>\n",
       "    </tr>\n",
       "    <tr>\n",
       "      <th>2</th>\n",
       "      <td>32470.0</td>\n",
       "      <td>48343.600</td>\n",
       "      <td>78099.170</td>\n",
       "      <td>30.0</td>\n",
       "      <td>1.762542</td>\n",
       "      <td>0.772791</td>\n",
       "      <td>0.023402</td>\n",
       "      <td>1281.9531</td>\n",
       "      <td>2400.0</td>\n",
       "      <td>15.957308</td>\n",
       "      <td>48.440710</td>\n",
       "      <td>531.46960</td>\n",
       "      <td>17.766054</td>\n",
       "      <td>0.0</td>\n",
       "      <td>0.0</td>\n",
       "      <td>8.0</td>\n",
       "      <td>0.0</td>\n",
       "      <td>1.0</td>\n",
       "    </tr>\n",
       "    <tr>\n",
       "      <th>3</th>\n",
       "      <td>32473.0</td>\n",
       "      <td>48787.824</td>\n",
       "      <td>75582.980</td>\n",
       "      <td>34.0</td>\n",
       "      <td>1.027034</td>\n",
       "      <td>0.695884</td>\n",
       "      <td>0.010928</td>\n",
       "      <td>3111.1494</td>\n",
       "      <td>4000.0</td>\n",
       "      <td>21.249687</td>\n",
       "      <td>43.988724</td>\n",
       "      <td>487.89218</td>\n",
       "      <td>17.524555</td>\n",
       "      <td>0.0</td>\n",
       "      <td>0.0</td>\n",
       "      <td>10.0</td>\n",
       "      <td>0.0</td>\n",
       "      <td>1.0</td>\n",
       "    </tr>\n",
       "    <tr>\n",
       "      <th>4</th>\n",
       "      <td>32474.0</td>\n",
       "      <td>48593.900</td>\n",
       "      <td>76125.000</td>\n",
       "      <td>116.0</td>\n",
       "      <td>1.203278</td>\n",
       "      <td>0.819528</td>\n",
       "      <td>0.040705</td>\n",
       "      <td>2849.7500</td>\n",
       "      <td>4800.0</td>\n",
       "      <td>16.703272</td>\n",
       "      <td>49.019146</td>\n",
       "      <td>487.89218</td>\n",
       "      <td>6.600189</td>\n",
       "      <td>0.0</td>\n",
       "      <td>0.0</td>\n",
       "      <td>12.0</td>\n",
       "      <td>0.0</td>\n",
       "      <td>1.0</td>\n",
       "    </tr>\n",
       "    <tr>\n",
       "      <th>...</th>\n",
       "      <td>...</td>\n",
       "      <td>...</td>\n",
       "      <td>...</td>\n",
       "      <td>...</td>\n",
       "      <td>...</td>\n",
       "      <td>...</td>\n",
       "      <td>...</td>\n",
       "      <td>...</td>\n",
       "      <td>...</td>\n",
       "      <td>...</td>\n",
       "      <td>...</td>\n",
       "      <td>...</td>\n",
       "      <td>...</td>\n",
       "      <td>...</td>\n",
       "      <td>...</td>\n",
       "      <td>...</td>\n",
       "      <td>...</td>\n",
       "      <td>...</td>\n",
       "    </tr>\n",
       "    <tr>\n",
       "      <th>14812</th>\n",
       "      <td>281874.0</td>\n",
       "      <td>13333.669</td>\n",
       "      <td>66962.960</td>\n",
       "      <td>71.0</td>\n",
       "      <td>1.079240</td>\n",
       "      <td>0.892957</td>\n",
       "      <td>0.011090</td>\n",
       "      <td>6401.9375</td>\n",
       "      <td>7600.0</td>\n",
       "      <td>27.423016</td>\n",
       "      <td>93.637665</td>\n",
       "      <td>409.91360</td>\n",
       "      <td>13.913384</td>\n",
       "      <td>0.0</td>\n",
       "      <td>2.0</td>\n",
       "      <td>6.0</td>\n",
       "      <td>0.0</td>\n",
       "      <td>1.0</td>\n",
       "    </tr>\n",
       "    <tr>\n",
       "      <th>14813</th>\n",
       "      <td>281880.0</td>\n",
       "      <td>9939.347</td>\n",
       "      <td>45296.290</td>\n",
       "      <td>49.0</td>\n",
       "      <td>3.192189</td>\n",
       "      <td>0.503558</td>\n",
       "      <td>0.005775</td>\n",
       "      <td>8485.5000</td>\n",
       "      <td>5600.0</td>\n",
       "      <td>40.332397</td>\n",
       "      <td>168.646800</td>\n",
       "      <td>197.28981</td>\n",
       "      <td>12.138171</td>\n",
       "      <td>0.0</td>\n",
       "      <td>1.0</td>\n",
       "      <td>8.0</td>\n",
       "      <td>0.0</td>\n",
       "      <td>1.0</td>\n",
       "    </tr>\n",
       "    <tr>\n",
       "      <th>14814</th>\n",
       "      <td>281901.0</td>\n",
       "      <td>18066.469</td>\n",
       "      <td>51773.600</td>\n",
       "      <td>51.0</td>\n",
       "      <td>1.243571</td>\n",
       "      <td>0.786533</td>\n",
       "      <td>0.002931</td>\n",
       "      <td>17397.6250</td>\n",
       "      <td>9600.0</td>\n",
       "      <td>65.418370</td>\n",
       "      <td>162.909180</td>\n",
       "      <td>160.44688</td>\n",
       "      <td>31.029620</td>\n",
       "      <td>0.0</td>\n",
       "      <td>0.0</td>\n",
       "      <td>5.0</td>\n",
       "      <td>0.0</td>\n",
       "      <td>1.0</td>\n",
       "    </tr>\n",
       "    <tr>\n",
       "      <th>14815</th>\n",
       "      <td>281906.0</td>\n",
       "      <td>20799.482</td>\n",
       "      <td>36863.652</td>\n",
       "      <td>17.0</td>\n",
       "      <td>1.294987</td>\n",
       "      <td>0.808684</td>\n",
       "      <td>0.003916</td>\n",
       "      <td>4340.7188</td>\n",
       "      <td>4800.0</td>\n",
       "      <td>30.770826</td>\n",
       "      <td>91.059630</td>\n",
       "      <td>261.75815</td>\n",
       "      <td>68.998535</td>\n",
       "      <td>0.0</td>\n",
       "      <td>2.0</td>\n",
       "      <td>3.0</td>\n",
       "      <td>0.0</td>\n",
       "      <td>1.0</td>\n",
       "    </tr>\n",
       "    <tr>\n",
       "      <th>14816</th>\n",
       "      <td>281912.0</td>\n",
       "      <td>20106.207</td>\n",
       "      <td>35452.465</td>\n",
       "      <td>268.0</td>\n",
       "      <td>1.083940</td>\n",
       "      <td>0.796452</td>\n",
       "      <td>0.038192</td>\n",
       "      <td>7017.1250</td>\n",
       "      <td>9600.0</td>\n",
       "      <td>23.283432</td>\n",
       "      <td>68.692314</td>\n",
       "      <td>236.84140</td>\n",
       "      <td>5.609008</td>\n",
       "      <td>0.0</td>\n",
       "      <td>2.0</td>\n",
       "      <td>6.0</td>\n",
       "      <td>0.0</td>\n",
       "      <td>1.0</td>\n",
       "    </tr>\n",
       "  </tbody>\n",
       "</table>\n",
       "<p>14817 rows × 18 columns</p>\n",
       "</div>"
      ],
      "text/plain": [
       "13           id          x          y  num_localisations      skew  \\\n",
       "0       32465.0  46512.523  78794.010              464.0  1.839434   \n",
       "1       32469.0  47834.477  77767.850               34.0  1.781715   \n",
       "2       32470.0  48343.600  78099.170               30.0  1.762542   \n",
       "3       32473.0  48787.824  75582.980               34.0  1.027034   \n",
       "4       32474.0  48593.900  76125.000              116.0  1.203278   \n",
       "...         ...        ...        ...                ...       ...   \n",
       "14812  281874.0  13333.669  66962.960               71.0  1.079240   \n",
       "14813  281880.0   9939.347  45296.290               49.0  3.192189   \n",
       "14814  281901.0  18066.469  51773.600               51.0  1.243571   \n",
       "14815  281906.0  20799.482  36863.652               17.0  1.294987   \n",
       "14816  281912.0  20106.207  35452.465              268.0  1.083940   \n",
       "\n",
       "13     circularity   density  convex_hull_area  discretised_area  \\\n",
       "0         0.859016  0.107602         4312.1875            6800.0   \n",
       "1         0.590072  0.010626         3199.5625            4400.0   \n",
       "2         0.772791  0.023402         1281.9531            2400.0   \n",
       "3         0.695884  0.010928         3111.1494            4000.0   \n",
       "4         0.819528  0.040705         2849.7500            4800.0   \n",
       "...            ...       ...               ...               ...   \n",
       "14812     0.892957  0.011090         6401.9375            7600.0   \n",
       "14813     0.503558  0.005775         8485.5000            5600.0   \n",
       "14814     0.786533  0.002931        17397.6250            9600.0   \n",
       "14815     0.808684  0.003916         4340.7188            4800.0   \n",
       "14816     0.796452  0.038192         7017.1250            9600.0   \n",
       "\n",
       "13     radius_of_gyration      length  distance_birth  distance_death  \\\n",
       "0               19.689600   72.562130      1612.90770        3.385545   \n",
       "1               27.191032   82.256590       531.46960       17.111925   \n",
       "2               15.957308   48.440710       531.46960       17.766054   \n",
       "3               21.249687   43.988724       487.89218       17.524555   \n",
       "4               16.703272   49.019146       487.89218        6.600189   \n",
       "...                   ...         ...             ...             ...   \n",
       "14812           27.423016   93.637665       409.91360       13.913384   \n",
       "14813           40.332397  168.646800       197.28981       12.138171   \n",
       "14814           65.418370  162.909180       160.44688       31.029620   \n",
       "14815           30.770826   91.059630       261.75815       68.998535   \n",
       "14816           23.283432   68.692314       236.84140        5.609008   \n",
       "\n",
       "13     channelGroupIndex  Channel 1 binned counts  Channel 2 binned counts  \\\n",
       "0                    0.0                      0.0                     16.0   \n",
       "1                    0.0                      0.0                     11.0   \n",
       "2                    0.0                      0.0                      8.0   \n",
       "3                    0.0                      0.0                     10.0   \n",
       "4                    0.0                      0.0                     12.0   \n",
       "...                  ...                      ...                      ...   \n",
       "14812                0.0                      2.0                      6.0   \n",
       "14813                0.0                      1.0                      8.0   \n",
       "14814                0.0                      0.0                      5.0   \n",
       "14815                0.0                      2.0                      3.0   \n",
       "14816                0.0                      2.0                      6.0   \n",
       "\n",
       "13     Channel 1 positive  Channel 2 positive  \n",
       "0                     0.0                 1.0  \n",
       "1                     0.0                 1.0  \n",
       "2                     0.0                 1.0  \n",
       "3                     0.0                 1.0  \n",
       "4                     0.0                 1.0  \n",
       "...                   ...                 ...  \n",
       "14812                 0.0                 1.0  \n",
       "14813                 0.0                 1.0  \n",
       "14814                 0.0                 1.0  \n",
       "14815                 0.0                 1.0  \n",
       "14816                 0.0                 1.0  \n",
       "\n",
       "[14817 rows x 18 columns]"
      ]
     },
     "execution_count": 17,
     "metadata": {},
     "output_type": "execute_result"
    }
   ],
   "source": [
    "X_train"
   ]
  },
  {
   "cell_type": "code",
   "execution_count": 18,
   "id": "2994750a",
   "metadata": {},
   "outputs": [],
   "source": [
    "from sklearn.pipeline import Pipeline\n",
    "from sklearn.preprocessing import MinMaxScaler\n",
    "from sklearn.linear_model import LogisticRegression\n",
    "from sklearn.svm import SVC\n",
    "\n",
    "# Create and train the SVM classifier\n",
    "# model = SVC(kernel='linear')\n",
    "\n",
    "pipeline = Pipeline(steps=[\n",
    "    ('tf', Transformer()),\n",
    "    ('scaler', MinMaxScaler()),       # Apply MinMaxScaler\n",
    "#     ('classifier', LogisticRegression(class_weight = 'balanced'))\n",
    "    ('classifier', SVC(kernel='linear',class_weight='balanced',probability=True))\n",
    "#     ('classifier', SVC(kernel='linear'))\n",
    "])"
   ]
  },
  {
   "cell_type": "code",
   "execution_count": 19,
   "id": "791fc37e",
   "metadata": {},
   "outputs": [
    {
     "name": "stdout",
     "output_type": "stream",
     "text": [
      "train Accuracy: 0.9620705945872984\n",
      "test Accuracy: 0.974635725849973\n"
     ]
    }
   ],
   "source": [
    "from sklearn.metrics import accuracy_score\n",
    "\n",
    "# Fit the pipeline\n",
    "pipeline.fit(X_train, y_train)\n",
    "\n",
    "support_vectors = pipeline.steps[2][1].support_vectors_\n",
    "\n",
    "y_train_pred = pipeline.predict(X_train)\n",
    "\n",
    "accuracy = accuracy_score(y_train, y_train_pred)\n",
    "print(\"train Accuracy:\", accuracy)\n",
    "\n",
    "# Make predictions on the test set\n",
    "y_test_pred = pipeline.predict(X_test)\n",
    "\n",
    "# Calculate the accuracy of the classifier\n",
    "accuracy = accuracy_score(y_test, y_test_pred)\n",
    "print(\"test Accuracy:\", accuracy)\n"
   ]
  },
  {
   "cell_type": "code",
   "execution_count": 20,
   "id": "3c0b5a4f",
   "metadata": {},
   "outputs": [
    {
     "name": "stdout",
     "output_type": "stream",
     "text": [
      "Train Accuracy: 0.9620705945872984\n",
      "Test Accuracy: 0.974635725849973\n"
     ]
    }
   ],
   "source": [
    "from sklearn.metrics import accuracy_score\n",
    "\n",
    "# Compute accuracy score\n",
    "accuracy_train = accuracy_score(y_train, y_train_pred)\n",
    "accuracy_test = accuracy_score(y_test, y_test_pred)\n",
    "\n",
    "# Print accuracy score\n",
    "print(\"Train Accuracy:\", accuracy_train)\n",
    "print(\"Test Accuracy:\", accuracy_test)"
   ]
  },
  {
   "cell_type": "code",
   "execution_count": 21,
   "id": "0e07ad0b",
   "metadata": {},
   "outputs": [
    {
     "name": "stdout",
     "output_type": "stream",
     "text": [
      "              precision    recall  f1-score   support\n",
      "\n",
      "           0       0.78      0.96      0.86      1781\n",
      "           1       0.99      0.96      0.98     13036\n",
      "\n",
      "    accuracy                           0.96     14817\n",
      "   macro avg       0.89      0.96      0.92     14817\n",
      "weighted avg       0.97      0.96      0.96     14817\n",
      "\n",
      "              precision    recall  f1-score   support\n",
      "\n",
      "           0       0.84      0.98      0.90       446\n",
      "           1       1.00      0.97      0.99      3260\n",
      "\n",
      "    accuracy                           0.97      3706\n",
      "   macro avg       0.92      0.97      0.94      3706\n",
      "weighted avg       0.98      0.97      0.98      3706\n",
      "\n",
      "[[ 1715    66]\n",
      " [  496 12540]]\n",
      "[[ 435   11]\n",
      " [  83 3177]]\n"
     ]
    }
   ],
   "source": [
    "from sklearn.metrics import classification_report\n",
    "\n",
    "# Generate classification report\n",
    "report = classification_report(y_train, y_train_pred)\n",
    "\n",
    "# Print classification report\n",
    "print(report)\n",
    "\n",
    "from sklearn.metrics import classification_report\n",
    "\n",
    "# Generate classification report\n",
    "report = classification_report(y_test, y_test_pred)\n",
    "\n",
    "# Print classification report\n",
    "print(report)\n",
    "\n",
    "from sklearn.metrics import confusion_matrix\n",
    "\n",
    "# Generate confusion matrix\n",
    "cm1 = confusion_matrix(y_train, y_train_pred)\n",
    "cm2 = confusion_matrix(y_test, y_test_pred)\n",
    "\n",
    "\n",
    "# Print confusion matrix\n",
    "print(cm1)\n",
    "print(cm2)\n"
   ]
  },
  {
   "cell_type": "code",
   "execution_count": 22,
   "id": "b341250c",
   "metadata": {
    "scrolled": false
   },
   "outputs": [
    {
     "name": "stdout",
     "output_type": "stream",
     "text": [
      "interested particle numbers for channel 2/CD9 single positive\n",
      "12734\n",
      "median radius of interested particle numbers\n",
      "36.304525\n"
     ]
    }
   ],
   "source": [
    "#fit single positive channels with double positive EV distribution and AB distribution from corresponding channels\n",
    "# cd9\n",
    "# df=pd.read_table(r'~/Desktop/codi data/troubleshooting/20230407 ev profiler kit/oni ev cd9 cd81/wash twice/1.csv')\n",
    "#df=pd.read_table(r'~/Desktop/codi data/troubleshooting/20230421 tim4 sonicate ab d10/ab/20230421 tim4 oni ev ab 2.csv')\n",
    "\n",
    "\n",
    "rslt_df1 = df2[(df2['Channel 1 binned counts'] < 3 )& (df2['Channel 2 binned counts'] >= 3)]  #channel 2 positive\n",
    "rslt_df2 = df2[(df2['Channel 1 binned counts'] >= 3 )& (df2['Channel 2 binned counts'] < 3)]  #channel 1 positive\n",
    "rslt_df = pd.concat([rslt_df1,rslt_df2]).reset_index(drop=True)\n",
    "\n",
    "radius = rslt_df['radius_of_gyration']\n",
    "print('interested particle numbers for channel 2/CD9 single positive')\n",
    "print(len(radius))\n",
    "print('median radius of interested particle numbers')\n",
    "print(radius.median())\n",
    "\n",
    "\n"
   ]
  },
  {
   "cell_type": "code",
   "execution_count": 23,
   "id": "7281d5a2",
   "metadata": {},
   "outputs": [],
   "source": [
    "X_test_2 = rslt_df[features]\n",
    "\n",
    "y_test_2 = pipeline.predict(X_test_2)"
   ]
  },
  {
   "cell_type": "code",
   "execution_count": 24,
   "id": "f6ea8966",
   "metadata": {},
   "outputs": [
    {
     "data": {
      "text/plain": [
       "80.17119522538087"
      ]
     },
     "execution_count": 24,
     "metadata": {},
     "output_type": "execute_result"
    }
   ],
   "source": [
    "sum(y_test_2)/len(y_test_2)*100"
   ]
  },
  {
   "cell_type": "code",
   "execution_count": 25,
   "id": "76604508",
   "metadata": {},
   "outputs": [
    {
     "name": "stdout",
     "output_type": "stream",
     "text": [
      "Train Accuracy: 0.9620705945872984\n",
      "Test Accuracy: 0.974635725849973\n"
     ]
    }
   ],
   "source": [
    "# Print accuracy score\n",
    "print(\"Train Accuracy:\", accuracy_train)\n",
    "print(\"Test Accuracy:\", accuracy_test)"
   ]
  },
  {
   "cell_type": "code",
   "execution_count": 26,
   "id": "2c49a15b",
   "metadata": {},
   "outputs": [
    {
     "name": "stdout",
     "output_type": "stream",
     "text": [
      "AUC-ROC Score: 0.9919935899199428\n"
     ]
    },
    {
     "data": {
      "text/plain": [
       "Text(0, 0.5, 'true positive rate')"
      ]
     },
     "execution_count": 26,
     "metadata": {},
     "output_type": "execute_result"
    },
    {
     "data": {
      "image/png": "[encoded data removed]",
      "text/plain": [
       "<Figure size 640x480 with 1 Axes>"
      ]
     },
     "metadata": {},
     "output_type": "display_data"
    }
   ],
   "source": [
    "from sklearn.metrics import roc_auc_score\n",
    "from sklearn import metrics\n",
    "\n",
    "# Make predictions on the train & test set\n",
    "# y_pred_prob_train = pipeline.predict_proba(X_train)[:, 1]\n",
    "y_pred_prob_test = pipeline.predict_proba(X_test)[:, 1]\n",
    "\n",
    "# Calculate the AUC-ROC score\n",
    "auc_roc_score = roc_auc_score(y_test, y_pred_prob_test)\n",
    "\n",
    "print(\"AUC-ROC Score:\", auc_roc_score)\n",
    "\n",
    "# roc_auc_score(y_train, y_train_proba[:, 1])\n",
    "\n",
    "# roc_auc_score(y_test, y_test_proba[:, 1])\n",
    "\n",
    "fpr, tpr, threshold = metrics.roc_curve(y_test, y_pred_prob_test)\n",
    "\n",
    "plt.plot(fpr,tpr)\n",
    "\n",
    "plt.xlabel('false positive rate', fontsize=12)\n",
    "plt.ylabel('true positive rate', fontsize=12)"
   ]
  },
  {
   "cell_type": "code",
   "execution_count": 27,
   "id": "5fd04227",
   "metadata": {},
   "outputs": [
    {
     "data": {
      "text/plain": [
       "Text(0, 0.5, 'true positive rate')"
      ]
     },
     "execution_count": 27,
     "metadata": {},
     "output_type": "execute_result"
    },
    {
     "data": {
      "image/png": "[encoded data removed]",
      "text/plain": [
       "<Figure size 640x480 with 1 Axes>"
      ]
     },
     "metadata": {},
     "output_type": "display_data"
    }
   ],
   "source": [
    "fpr_svm, tpr_svm, thresholds_svm_1 = metrics.roc_curve(y_test, y_pred_prob_test)\n",
    "\n",
    "plt.plot(fpr_svm,tpr_svm)\n",
    "\n",
    "plt.xlabel('false positive rate', fontsize=12)\n",
    "plt.ylabel('true positive rate', fontsize=12)"
   ]
  },
  {
   "cell_type": "code",
   "execution_count": 28,
   "id": "796e04bf",
   "metadata": {},
   "outputs": [
    {
     "data": {
      "image/png": "[encoded data removed]",
      "text/plain": [
       "<Figure size 640x480 with 1 Axes>"
      ]
     },
     "metadata": {},
     "output_type": "display_data"
    }
   ],
   "source": [
    "from sklearn.metrics import precision_recall_curve\n",
    "\n",
    "precision_svm, recall_svm, thresholds_svm_2 = precision_recall_curve(y_test, y_pred_prob_test)\n",
    "plt.plot(recall_svm, precision_svm)\n",
    "plt.ylabel(\"Precision\")\n",
    "plt.xlabel(\"Recall\")\n",
    "plt.title(\"Train Precision-Recall curve\");"
   ]
  },
  {
   "cell_type": "code",
   "execution_count": 29,
   "id": "5824bc4b",
   "metadata": {},
   "outputs": [
    {
     "name": "stdout",
     "output_type": "stream",
     "text": [
      "Stored 'fpr_svm' (ndarray)\n",
      "Stored 'tpr_svm' (ndarray)\n",
      "Stored 'thresholds_svm_1' (ndarray)\n",
      "Stored 'precision_svm' (ndarray)\n",
      "Stored 'recall_svm' (ndarray)\n",
      "Stored 'thresholds_svm_2' (ndarray)\n"
     ]
    }
   ],
   "source": [
    "%store fpr_svm\n",
    "%store tpr_svm\n",
    "%store thresholds_svm_1\n",
    "%store precision_svm\n",
    "%store recall_svm\n",
    "%store thresholds_svm_2"
   ]
  },
  {
   "cell_type": "code",
   "execution_count": null,
   "id": "7a89f96e",
   "metadata": {},
   "outputs": [],
   "source": []
  }
 ],
 "metadata": {
  "kernelspec": {
   "display_name": "Python 3 (ipykernel)",
   "language": "python",
   "name": "python3"
  },
  "language_info": {
   "codemirror_mode": {
    "name": "ipython",
    "version": 3
   },
   "file_extension": ".py",
   "mimetype": "text/x-python",
   "name": "python",
   "nbconvert_exporter": "python",
   "pygments_lexer": "ipython3",
   "version": "3.9.13"
  }
 },
 "nbformat": 4,
 "nbformat_minor": 5
}
