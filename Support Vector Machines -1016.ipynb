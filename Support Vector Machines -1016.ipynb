{
 "cells": [
  {
   "cell_type": "code",
   "execution_count": 31,
   "id": "45bbf7c6",
   "metadata": {},
   "outputs": [],
   "source": [
    "# problem: remove ab aggregates from single positive EVs\n",
    "# target: 0 for ab aggregates, 1 for EV (classification)"
   ]
  },
  {
   "cell_type": "code",
   "execution_count": 32,
   "id": "1755ab32",
   "metadata": {},
   "outputs": [],
   "source": [
    "import pandas as pd\n",
    "%matplotlib inline \n",
    "import numpy as np\n",
    "from scipy.stats import lognorm, norm\n",
    "import matplotlib.pyplot as plt\n",
    "from scipy.optimize import curve_fit\n",
    "import scipy.stats as stats"
   ]
  },
  {
   "cell_type": "code",
   "execution_count": 33,
   "id": "0c1e229b",
   "metadata": {
    "scrolled": false
   },
   "outputs": [
    {
     "name": "stdout",
     "output_type": "stream",
     "text": [
      "interested particle numbers for ab aggregates\n",
      "20809\n",
      "median radius of interested particle numbers\n",
      "41.17086\n"
     ]
    }
   ],
   "source": [
    "#AB fitting with curve_fit, bins need to be 200!\n",
    "df=pd.read_table(r'~/Downloads/data file/EV sample total 2.csv')\n",
    "\n",
    "#discard headers\n",
    "df_new = df.loc[13:] # 14 for single file, 13 for 'total' file\n",
    "df1=df_new[df_new.columns[0]].str.split(',', expand=True)\n",
    "df1.columns = df1.iloc[0]\n",
    "df1=df1.drop(df1.index[0])\n",
    "df1=df1.reset_index(drop=True)\n",
    "df1 = df1[df1.columns].astype(float)\n",
    "\n",
    "rslt_df_0 = df1[(df1['Channel 1 binned counts'] >= 3 )| (df1['Channel 2 binned counts'] >= 3)]  #channel 1 or 2 positive\n",
    "radius = rslt_df_0[rslt_df_0['radius_of_gyration']<300]['radius_of_gyration']\n",
    "print('interested particle numbers for ab aggregates')\n",
    "print(len(radius))\n",
    "print('median radius of interested particle numbers')\n",
    "print(radius.median())"
   ]
  },
  {
   "cell_type": "code",
   "execution_count": 34,
   "id": "88d4e947",
   "metadata": {},
   "outputs": [
    {
     "data": {
      "text/plain": [
       "(array([2.110e+02, 1.301e+03, 2.168e+03, 2.603e+03, 2.280e+03, 1.919e+03,\n",
       "        1.538e+03, 1.213e+03, 9.310e+02, 7.790e+02, 6.570e+02, 5.310e+02,\n",
       "        5.100e+02, 4.900e+02, 4.170e+02, 3.580e+02, 3.620e+02, 3.200e+02,\n",
       "        3.280e+02, 2.630e+02, 2.140e+02, 2.260e+02, 2.300e+02, 1.620e+02,\n",
       "        1.350e+02, 1.420e+02, 8.600e+01, 9.700e+01, 8.100e+01, 5.400e+01,\n",
       "        3.900e+01, 4.000e+01, 2.600e+01, 2.000e+01, 1.700e+01, 1.600e+01,\n",
       "        1.500e+01, 1.200e+01, 7.000e+00, 3.000e+00, 2.000e+00, 3.000e+00,\n",
       "        0.000e+00, 0.000e+00, 0.000e+00, 0.000e+00, 1.000e+00, 0.000e+00,\n",
       "        0.000e+00, 2.000e+00]),\n",
       " array([  7.3404956 ,  13.02065049,  18.70080538,  24.38096026,\n",
       "         30.06111515,  35.74127004,  41.42142493,  47.10157982,\n",
       "         52.7817347 ,  58.46188959,  64.14204448,  69.82219937,\n",
       "         75.50235426,  81.18250914,  86.86266403,  92.54281892,\n",
       "         98.22297381, 103.9031287 , 109.58328358, 115.26343847,\n",
       "        120.94359336, 126.62374825, 132.30390314, 137.98405802,\n",
       "        143.66421291, 149.3443678 , 155.02452269, 160.70467758,\n",
       "        166.38483246, 172.06498735, 177.74514224, 183.42529713,\n",
       "        189.10545202, 194.7856069 , 200.46576179, 206.14591668,\n",
       "        211.82607157, 217.50622646, 223.18638134, 228.86653623,\n",
       "        234.54669112, 240.22684601, 245.9070009 , 251.58715578,\n",
       "        257.26731067, 262.94746556, 268.62762045, 274.30777534,\n",
       "        279.98793022, 285.66808511, 291.34824   ]),\n",
       " <BarContainer object of 50 artists>)"
      ]
     },
     "execution_count": 34,
     "metadata": {},
     "output_type": "execute_result"
    },
    {
     "data": {
      "image/png": "[encoded data removed]",
      "text/plain": [
       "<Figure size 640x480 with 1 Axes>"
      ]
     },
     "metadata": {},
     "output_type": "display_data"
    }
   ],
   "source": [
    "plt.hist(radius,bins=50)"
   ]
  },
  {
   "cell_type": "code",
   "execution_count": 35,
   "id": "0f08a168",
   "metadata": {},
   "outputs": [],
   "source": [
    "rslt_df_0=rslt_df_0.reset_index(drop=True)\n",
    "# rslt_df_0=rslt_df_0.drop('index', axis=1)\n",
    "rslt_df_0['label'] = [0]*len(rslt_df_0)"
   ]
  },
  {
   "cell_type": "code",
   "execution_count": 36,
   "id": "f84e6e14",
   "metadata": {},
   "outputs": [
    {
     "name": "stdout",
     "output_type": "stream",
     "text": [
      "8148\n"
     ]
    }
   ],
   "source": [
    "#EV\n",
    "\n",
    "df=pd.read_table(r'~/Desktop/codi data/troubleshooting/20230427 tim4 b1 c1/B1/20230427 tim4 B1 ONI total.csv')\n",
    "\n",
    "df_new = df.loc[13:] # 14 for single file, 13 for 'total' file\n",
    "\n",
    "df1=df_new[df_new.columns[0]].str.split(',', expand=True)\n",
    "df1.columns = df1.iloc[0]\n",
    "df1=df1.drop(df1.index[0])\n",
    "df1=df1.reset_index(drop=True)\n",
    "df2 = df1[df1.columns].astype(float)\n",
    "\n",
    "rslt_df_1 = df2[(df2['Channel 1 binned counts'] >= 3 )& (df2['Channel 2 binned counts'] >= 3)]  #channel 1&2 positive\n",
    "radius = rslt_df_1[rslt_df_1['radius_of_gyration']<300]['radius_of_gyration']\n",
    "# radius = rslt_df['radius_of_gyration']\n",
    "print(len(rslt_df_1))"
   ]
  },
  {
   "cell_type": "code",
   "execution_count": 37,
   "id": "04b6575c",
   "metadata": {},
   "outputs": [],
   "source": [
    "rslt_df_1=rslt_df_1.reset_index(drop=True)\n",
    "# rslt_df_1=rslt_df_1.drop('index', axis=1)\n",
    "rslt_df_1['label'] = [1]*len(rslt_df_1)"
   ]
  },
  {
   "cell_type": "code",
   "execution_count": 38,
   "id": "729c9524",
   "metadata": {},
   "outputs": [],
   "source": [
    "# split 1 double positive particle to 2 single positive particle and change the feature value\n",
    "import random\n",
    "import copy\n",
    "\n",
    "# rslt_df_1_1 = pd.DataFrame()\n",
    "rslt_df_1_1 = copy.deepcopy(rslt_df_1)\n",
    "random_numbers = np.random.randint(low=0, high=3, size=len(rslt_df_1_1))\n",
    "rslt_df_1_1['Channel 2 binned counts'] = random_numbers\n",
    "rslt_df_1_1['Channel 2 positive'] = 0\n",
    "\n",
    "# rslt_df_1_1 = pd.DataFrame()\n",
    "rslt_df_1_2 = copy.deepcopy(rslt_df_1)\n",
    "random_numbers = np.random.randint(low=0, high=3, size=len(rslt_df_1_1))\n",
    "rslt_df_1_2['Channel 1 binned counts'] = random_numbers\n",
    "rslt_df_1_2['Channel 1 positive'] = 0"
   ]
  },
  {
   "cell_type": "code",
   "execution_count": 39,
   "id": "13482b63",
   "metadata": {},
   "outputs": [],
   "source": [
    "n_0 = int(len(rslt_df_0)*4/5)\n",
    "n_1 = int(len(rslt_df_1)*4/5)"
   ]
  },
  {
   "cell_type": "code",
   "execution_count": 40,
   "id": "f6997e8f",
   "metadata": {},
   "outputs": [],
   "source": [
    "train_0 = rslt_df_0.iloc[:n_0,:]\n",
    "# train_1 = rslt_df_1.iloc[:n_1,:]\n",
    "train_2 = rslt_df_1_1.iloc[:n_1,:]\n",
    "train_3 = rslt_df_1_2.iloc[:n_1,:]\n",
    "train_total = pd.concat([train_0,train_2,train_3]).reset_index(drop=True)\n",
    "# train = train_total.sample(frac=1, random_state=42).reset_index(drop=True)\n",
    "train = train_total"
   ]
  },
  {
   "cell_type": "code",
   "execution_count": 41,
   "id": "bcd4e514",
   "metadata": {},
   "outputs": [],
   "source": [
    "# result = pd.concat([rslt_df_0, rslt_df_1])"
   ]
  },
  {
   "cell_type": "code",
   "execution_count": 42,
   "id": "e8953bcf",
   "metadata": {},
   "outputs": [],
   "source": [
    "# result = result.reset_index(drop=True)"
   ]
  },
  {
   "cell_type": "code",
   "execution_count": 43,
   "id": "abf57b05",
   "metadata": {},
   "outputs": [],
   "source": [
    "test_0 = rslt_df_0.iloc[n_0:,:]\n",
    "# test_1 = rslt_df_1.iloc[n_1:,:]\n",
    "test_2 = rslt_df_1_1.iloc[n_1:,:]\n",
    "test_3 = rslt_df_1_2.iloc[n_1:,:]\n",
    "test_total = pd.concat([test_0,test_2,test_3]).reset_index(drop=True)\n",
    "# test = test_total.sample(frac=1, random_state=42).reset_index(drop=True)\n",
    "test = test_total"
   ]
  },
  {
   "cell_type": "code",
   "execution_count": 44,
   "id": "81ba7da0",
   "metadata": {},
   "outputs": [],
   "source": [
    "import matplotlib.pylab as plt\n",
    "%matplotlib inline"
   ]
  },
  {
   "cell_type": "code",
   "execution_count": 45,
   "id": "889510f5",
   "metadata": {},
   "outputs": [],
   "source": [
    "from sklearn.ensemble import RandomForestRegressor\n",
    "from sklearn.pipeline import Pipeline\n",
    "from sklearn.preprocessing import MinMaxScaler\n",
    "from sklearn.metrics import mean_absolute_error, mean_squared_error, r2_score\n",
    "\n",
    "# from sklearn.base import TransformerMixin\n",
    "\n",
    "class Transformer():\n",
    "\n",
    "    def __init__(self):\n",
    "        self.mean = 0\n",
    "    \n",
    "    def fit(self, X, y=None):\n",
    "        '''\n",
    "        Get mean\n",
    "        Input: X datafrome\n",
    "        '''\n",
    "        \n",
    "\n",
    "    def transform(self, X, y=None):\n",
    "        '''\n",
    "        Transform data and fill na with mean\n",
    "        Input: X dataframe\n",
    "        '''\n",
    "        df = pd.DataFrame()\n",
    "        \n",
    "        df['num_localisations']=X['num_localisations']\n",
    "        df['skew']=X['skew']\n",
    "        df['circularity']=X['circularity']\n",
    "        df['density']=X['density']\n",
    "        df['convex_hull_area']=X['convex_hull_area']\n",
    "        df['discretised_area']=X['discretised_area']\n",
    "        df['radius_of_gyration']=X['radius_of_gyration']\n",
    "        df['length']=X['length']\n",
    "        df['distance_birth']=X['distance_birth']\n",
    "        df['distance_death']=X['distance_death']\n",
    "        df['Channel 1 binned counts'] = X['Channel 1 binned counts']\n",
    "        df['Channel 2 binned counts'] = X['Channel 2 binned counts']\n",
    "      \n",
    "        return df\n",
    "\n",
    "    \n",
    " \n",
    "    def fit_transform(self, X, y=None):\n",
    "        '''\n",
    "        Combine fit and transform\n",
    "        Input: X dataframe\n",
    "        '''        \n",
    "        self.fit(X)\n",
    "        return self.transform(X)\n",
    "          "
   ]
  },
  {
   "cell_type": "code",
   "execution_count": 46,
   "id": "2ed4abfb",
   "metadata": {},
   "outputs": [],
   "source": [
    "# Transformer().fit_transform(X_train)"
   ]
  },
  {
   "cell_type": "code",
   "execution_count": 47,
   "id": "a831d87c",
   "metadata": {},
   "outputs": [],
   "source": [
    "# df_copy.tail(20)\n",
    "features = list(train.columns)\n",
    "target = 'label'\n",
    "features.remove(target)\n",
    "\n",
    "X_train = train[features]\n",
    "y_train = train[target]\n",
    "\n",
    "X_test = test[features]\n",
    "y_test = test[target]"
   ]
  },
  {
   "cell_type": "code",
   "execution_count": 48,
   "id": "2994750a",
   "metadata": {},
   "outputs": [],
   "source": [
    "from sklearn.pipeline import Pipeline\n",
    "from sklearn.preprocessing import MinMaxScaler\n",
    "from sklearn.linear_model import LogisticRegression\n",
    "from sklearn.svm import SVC\n",
    "\n",
    "# Create and train the SVM classifier\n",
    "# model = SVC(kernel='linear')\n",
    "\n",
    "pipeline = Pipeline(steps=[\n",
    "    ('tf', Transformer()),\n",
    "    ('scaler', MinMaxScaler()),       # Apply MinMaxScaler\n",
    "    ('classifier', SVC(kernel='linear',class_weight='balanced',probability=True))\n",
    "])"
   ]
  },
  {
   "cell_type": "code",
   "execution_count": 49,
   "id": "791fc37e",
   "metadata": {},
   "outputs": [
    {
     "name": "stdout",
     "output_type": "stream",
     "text": [
      "train Accuracy: 0.8469831216521241\n",
      "test Accuracy: 0.8497709512260846\n"
     ]
    }
   ],
   "source": [
    "from sklearn.metrics import accuracy_score\n",
    "\n",
    "# Fit the pipeline\n",
    "pipeline.fit(X_train, y_train)\n",
    "\n",
    "support_vectors = pipeline.steps[2][1].support_vectors_\n",
    "\n",
    "y_train_pred = pipeline.predict(X_train)\n",
    "\n",
    "accuracy = accuracy_score(y_train, y_train_pred)\n",
    "print(\"train Accuracy:\", accuracy)\n",
    "\n",
    "# Make predictions on the test set\n",
    "y_test_pred = pipeline.predict(X_test)\n",
    "\n",
    "# Calculate the accuracy of the classifier\n",
    "accuracy = accuracy_score(y_test, y_test_pred)\n",
    "print(\"test Accuracy:\", accuracy)\n"
   ]
  },
  {
   "cell_type": "code",
   "execution_count": 50,
   "id": "3c0b5a4f",
   "metadata": {},
   "outputs": [
    {
     "name": "stdout",
     "output_type": "stream",
     "text": [
      "Train Accuracy: 0.8469831216521241\n",
      "Test Accuracy: 0.8497709512260846\n"
     ]
    }
   ],
   "source": [
    "from sklearn.metrics import accuracy_score\n",
    "\n",
    "# Compute accuracy score\n",
    "accuracy_train = accuracy_score(y_train, y_train_pred)\n",
    "accuracy_test = accuracy_score(y_test, y_test_pred)\n",
    "\n",
    "# Print accuracy score\n",
    "print(\"Train Accuracy:\", accuracy_train)\n",
    "print(\"Test Accuracy:\", accuracy_test)"
   ]
  },
  {
   "cell_type": "code",
   "execution_count": 51,
   "id": "0e07ad0b",
   "metadata": {},
   "outputs": [
    {
     "name": "stdout",
     "output_type": "stream",
     "text": [
      "              precision    recall  f1-score   support\n",
      "\n",
      "           0       0.85      0.88      0.87     16647\n",
      "           1       0.84      0.81      0.82     13036\n",
      "\n",
      "    accuracy                           0.85     29683\n",
      "   macro avg       0.85      0.84      0.84     29683\n",
      "weighted avg       0.85      0.85      0.85     29683\n",
      "\n",
      "              precision    recall  f1-score   support\n",
      "\n",
      "           0       0.86      0.88      0.87      4162\n",
      "           1       0.84      0.81      0.83      3260\n",
      "\n",
      "    accuracy                           0.85      7422\n",
      "   macro avg       0.85      0.85      0.85      7422\n",
      "weighted avg       0.85      0.85      0.85      7422\n",
      "\n",
      "[[14632  2015]\n",
      " [ 2527 10509]]\n",
      "[[3660  502]\n",
      " [ 613 2647]]\n"
     ]
    }
   ],
   "source": [
    "from sklearn.metrics import classification_report\n",
    "\n",
    "# Generate classification report\n",
    "report = classification_report(y_train, y_train_pred)\n",
    "\n",
    "# Print classification report\n",
    "print(report)\n",
    "\n",
    "from sklearn.metrics import classification_report\n",
    "\n",
    "# Generate classification report\n",
    "report = classification_report(y_test, y_test_pred)\n",
    "\n",
    "# Print classification report\n",
    "print(report)\n",
    "\n",
    "from sklearn.metrics import confusion_matrix\n",
    "\n",
    "# Generate confusion matrix\n",
    "cm1 = confusion_matrix(y_train, y_train_pred)\n",
    "cm2 = confusion_matrix(y_test, y_test_pred)\n",
    "\n",
    "\n",
    "# Print confusion matrix\n",
    "print(cm1)\n",
    "print(cm2)\n"
   ]
  },
  {
   "cell_type": "code",
   "execution_count": 52,
   "id": "b341250c",
   "metadata": {
    "scrolled": false
   },
   "outputs": [
    {
     "name": "stdout",
     "output_type": "stream",
     "text": [
      "interested particle numbers for channel 2/CD9 single positive\n",
      "12734\n",
      "median radius of interested particle numbers\n",
      "36.304525\n"
     ]
    }
   ],
   "source": [
    "#fit single positive channels with double positive EV distribution and AB distribution from corresponding channels\n",
    "# cd9\n",
    "\n",
    "rslt_df1 = df2[(df2['Channel 1 binned counts'] < 3 )& (df2['Channel 2 binned counts'] >= 3)]  #channel 2 positive\n",
    "rslt_df2 = df2[(df2['Channel 1 binned counts'] >= 3 )& (df2['Channel 2 binned counts'] < 3)]  #channel 1 positive\n",
    "rslt_df = pd.concat([rslt_df1,rslt_df2]).reset_index(drop=True)\n",
    "\n",
    "radius = rslt_df['radius_of_gyration']\n",
    "print('interested particle numbers for channel 2/CD9 single positive')\n",
    "print(len(radius))\n",
    "print('median radius of interested particle numbers')\n",
    "print(radius.median())\n",
    "\n",
    "\n"
   ]
  },
  {
   "cell_type": "code",
   "execution_count": 53,
   "id": "7281d5a2",
   "metadata": {},
   "outputs": [],
   "source": [
    "X_test_2 = rslt_df[features]\n",
    "\n",
    "y_test_2 = pipeline.predict(X_test_2)"
   ]
  },
  {
   "cell_type": "code",
   "execution_count": 54,
   "id": "f6ea8966",
   "metadata": {},
   "outputs": [
    {
     "data": {
      "text/plain": [
       "30.084812313491437"
      ]
     },
     "execution_count": 54,
     "metadata": {},
     "output_type": "execute_result"
    }
   ],
   "source": [
    "sum(y_test_2)/len(y_test_2)*100"
   ]
  },
  {
   "cell_type": "code",
   "execution_count": 55,
   "id": "76604508",
   "metadata": {},
   "outputs": [
    {
     "name": "stdout",
     "output_type": "stream",
     "text": [
      "Train Accuracy: 0.8469831216521241\n",
      "Test Accuracy: 0.8497709512260846\n"
     ]
    }
   ],
   "source": [
    "# Print accuracy score\n",
    "print(\"Train Accuracy:\", accuracy_train)\n",
    "print(\"Test Accuracy:\", accuracy_test)"
   ]
  },
  {
   "cell_type": "code",
   "execution_count": 56,
   "id": "2c49a15b",
   "metadata": {},
   "outputs": [
    {
     "name": "stdout",
     "output_type": "stream",
     "text": [
      "AUC-ROC Score: 0.9076434318092705\n"
     ]
    },
    {
     "data": {
      "text/plain": [
       "Text(0, 0.5, 'true positive rate')"
      ]
     },
     "execution_count": 56,
     "metadata": {},
     "output_type": "execute_result"
    },
    {
     "data": {
      "image/png": "[encoded data removed]",
      "text/plain": [
       "<Figure size 640x480 with 1 Axes>"
      ]
     },
     "metadata": {},
     "output_type": "display_data"
    }
   ],
   "source": [
    "from sklearn.metrics import roc_auc_score\n",
    "from sklearn import metrics\n",
    "\n",
    "# Make predictions on the train & test set\n",
    "# y_pred_prob_train = pipeline.predict_proba(X_train)[:, 1]\n",
    "y_pred_prob_test = pipeline.predict_proba(X_test)[:, 1]\n",
    "\n",
    "# Calculate the AUC-ROC score\n",
    "auc_roc_score = roc_auc_score(y_test, y_pred_prob_test)\n",
    "\n",
    "print(\"AUC-ROC Score:\", auc_roc_score)\n",
    "\n",
    "# roc_auc_score(y_train, y_train_proba[:, 1])\n",
    "\n",
    "# roc_auc_score(y_test, y_test_proba[:, 1])\n",
    "\n",
    "fpr, tpr, threshold = metrics.roc_curve(y_test, y_pred_prob_test)\n",
    "\n",
    "plt.plot(fpr,tpr)\n",
    "\n",
    "plt.xlabel('false positive rate', fontsize=12)\n",
    "plt.ylabel('true positive rate', fontsize=12)"
   ]
  },
  {
   "cell_type": "code",
   "execution_count": 57,
   "id": "5fd04227",
   "metadata": {},
   "outputs": [
    {
     "data": {
      "text/plain": [
       "Text(0, 0.5, 'true positive rate')"
      ]
     },
     "execution_count": 57,
     "metadata": {},
     "output_type": "execute_result"
    },
    {
     "data": {
      "image/png": "[encoded data removed]",
      "text/plain": [
       "<Figure size 640x480 with 1 Axes>"
      ]
     },
     "metadata": {},
     "output_type": "display_data"
    }
   ],
   "source": [
    "fpr_svm, tpr_svm, thresholds_svm_1 = metrics.roc_curve(y_test, y_pred_prob_test)\n",
    "\n",
    "plt.plot(fpr_svm,tpr_svm)\n",
    "\n",
    "plt.xlabel('false positive rate', fontsize=12)\n",
    "plt.ylabel('true positive rate', fontsize=12)"
   ]
  },
  {
   "cell_type": "code",
   "execution_count": 58,
   "id": "796e04bf",
   "metadata": {},
   "outputs": [
    {
     "data": {
      "image/png": "[encoded data removed]",
      "text/plain": [
       "<Figure size 640x480 with 1 Axes>"
      ]
     },
     "metadata": {},
     "output_type": "display_data"
    }
   ],
   "source": [
    "from sklearn.metrics import precision_recall_curve\n",
    "\n",
    "precision_svm, recall_svm, thresholds_svm_2 = precision_recall_curve(y_test, y_pred_prob_test)\n",
    "plt.plot(recall_svm, precision_svm)\n",
    "plt.ylabel(\"Precision\")\n",
    "plt.xlabel(\"Recall\")\n",
    "plt.title(\"Train Precision-Recall curve\");"
   ]
  },
  {
   "cell_type": "code",
   "execution_count": 59,
   "id": "5824bc4b",
   "metadata": {},
   "outputs": [
    {
     "name": "stdout",
     "output_type": "stream",
     "text": [
      "Stored 'fpr_svm' (ndarray)\n",
      "Stored 'tpr_svm' (ndarray)\n",
      "Stored 'thresholds_svm_1' (ndarray)\n",
      "Stored 'precision_svm' (ndarray)\n",
      "Stored 'recall_svm' (ndarray)\n",
      "Stored 'thresholds_svm_2' (ndarray)\n"
     ]
    }
   ],
   "source": [
    "%store fpr_svm\n",
    "%store tpr_svm\n",
    "%store thresholds_svm_1\n",
    "%store precision_svm\n",
    "%store recall_svm\n",
    "%store thresholds_svm_2"
   ]
  },
  {
   "cell_type": "code",
   "execution_count": null,
   "id": "7a89f96e",
   "metadata": {},
   "outputs": [],
   "source": []
  }
 ],
 "metadata": {
  "kernelspec": {
   "display_name": "Python 3 (ipykernel)",
   "language": "python",
   "name": "python3"
  },
  "language_info": {
   "codemirror_mode": {
    "name": "ipython",
    "version": 3
   },
   "file_extension": ".py",
   "mimetype": "text/x-python",
   "name": "python",
   "nbconvert_exporter": "python",
   "pygments_lexer": "ipython3",
   "version": "3.9.13"
  }
 },
 "nbformat": 4,
 "nbformat_minor": 5
}
